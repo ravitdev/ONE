{
 "cells": [
  {
   "cell_type": "code",
   "execution_count": 1,
   "id": "70523ed1",
   "metadata": {},
   "outputs": [
    {
     "name": "stdout",
     "output_type": "stream",
     "text": [
      "Note: you may need to restart the kernel to use updated packages.\n"
     ]
    },
    {
     "name": "stderr",
     "output_type": "stream",
     "text": [
      "\n",
      "[notice] A new release of pip is available: 25.1.1 -> 25.2\n",
      "[notice] To update, run: python.exe -m pip install --upgrade pip\n"
     ]
    }
   ],
   "source": [
    "pip install -q openai"
   ]
  },
  {
   "cell_type": "code",
   "execution_count": null,
   "id": "da696571",
   "metadata": {},
   "outputs": [
    {
     "ename": "ModuleNotFoundError",
     "evalue": "No module named 'google.colab'",
     "output_type": "error",
     "traceback": [
      "\u001b[31m---------------------------------------------------------------------------\u001b[39m",
      "\u001b[31mModuleNotFoundError\u001b[39m                       Traceback (most recent call last)",
      "\u001b[36mCell\u001b[39m\u001b[36m \u001b[39m\u001b[32mIn[2]\u001b[39m\u001b[32m, line 1\u001b[39m\n\u001b[32m----> \u001b[39m\u001b[32m1\u001b[39m \u001b[38;5;28;01mfrom\u001b[39;00m\u001b[38;5;250m \u001b[39m\u001b[34;01mgoogle\u001b[39;00m\u001b[34;01m.\u001b[39;00m\u001b[34;01mcolab\u001b[39;00m\u001b[38;5;250m \u001b[39m\u001b[38;5;28;01mimport\u001b[39;00m userdata\n\u001b[32m      2\u001b[39m \u001b[38;5;28;01mimport\u001b[39;00m\u001b[38;5;250m \u001b[39m\u001b[34;01mopenai\u001b[39;00m\n\u001b[32m      4\u001b[39m \u001b[38;5;66;03m# establece la API key\u001b[39;00m\n",
      "\u001b[31mModuleNotFoundError\u001b[39m: No module named 'google.colab'"
     ]
    }
   ],
   "source": [
    "from google.colab import userdata # esto tengo que usarlo en colab\n",
    "import openai\n",
    "\n",
    "# establece la API key\n",
    "openai.api_key = userdata.get('OpenAIKEY')\n",
    "\n",
    "# Definición de persona del sistema e historial de mensajes\n",
    "messages = [\n",
    "    {\n",
    "        \"role\": \"system\",\n",
    "        \"content\": \"Tu eres un asistente prestativo y educado.\" # establece la persona del modelo, si será educado, formal, sarcástico, etc.\n",
    "    }\n",
    "]"
   ]
  },
  {
   "cell_type": "code",
   "execution_count": 3,
   "id": "d930e443",
   "metadata": {},
   "outputs": [],
   "source": [
    "# SELF-CONSISTENCY\n",
    "answers = []\n",
    "LOOPS = 4\n",
    "\n",
    "prompt = \"\"\"\n",
    "Retorne la 'Respuesta:\" por extenso siguiendo la lógica planteada.\n",
    "y el \"Resultado:\" sin ninguna operación ni puntuación además del valor.\n",
    "\n",
    "Pregunta: Si hay 3 coches en el estacionamiento y llegan 2 coches más, ¿cuántos coches estarán en el estacionamiento?\n",
    "Respuesta: Ya hay 3 coches en el estacionamiento. Llegan 2 más. Ahora hay 3 + 2 = 5 coches. La respuesta es 5.\n",
    "Resultado: 5\n",
    "\n",
    "Pregunta: Las gallinas de Janet ponen 16 huevos al día. Ella come tres en el desayuno todas las mañanas.\n",
    "También hace omeletes para sus amigos todos los días utilizando otros cuatro huevos.\n",
    "Vende el resto por 2 dólares por huevo. ¿Cuánto dinero gana todos los días?\n",
    "Respuesta:\n",
    "Resultado:\n",
    "\n",
    "\"\"\""
   ]
  },
  {
   "cell_type": "code",
   "execution_count": 4,
   "id": "b0c250b6",
   "metadata": {},
   "outputs": [
    {
     "ename": "NameError",
     "evalue": "name 'messages' is not defined",
     "output_type": "error",
     "traceback": [
      "\u001b[31m---------------------------------------------------------------------------\u001b[39m",
      "\u001b[31mNameError\u001b[39m                                 Traceback (most recent call last)",
      "\u001b[36mCell\u001b[39m\u001b[36m \u001b[39m\u001b[32mIn[4]\u001b[39m\u001b[32m, line 1\u001b[39m\n\u001b[32m----> \u001b[39m\u001b[32m1\u001b[39m \u001b[43mmessages\u001b[49m.append({\u001b[33m\"\u001b[39m\u001b[33mrole\u001b[39m\u001b[33m\"\u001b[39m: \u001b[33m\"\u001b[39m\u001b[33muser\u001b[39m\u001b[33m\"\u001b[39m, \u001b[33m\"\u001b[39m\u001b[33mcontent\u001b[39m\u001b[33m\"\u001b[39m: prompt})  \u001b[38;5;66;03m# adiciona el prompt a la instrucción inicial y al histórico\u001b[39;00m\n\u001b[32m      3\u001b[39m \u001b[38;5;28;01mfor\u001b[39;00m loop \u001b[38;5;129;01min\u001b[39;00m \u001b[38;5;28mrange\u001b[39m(\u001b[32m0\u001b[39m, LOOPS):\n\u001b[32m      4\u001b[39m \n\u001b[32m      5\u001b[39m     \u001b[38;5;66;03m# Llamada a la API\u001b[39;00m\n\u001b[32m      6\u001b[39m     response = openai.chat.completions.create(\n\u001b[32m      7\u001b[39m         model = \u001b[33m\"\u001b[39m\u001b[33mgpt-4o\u001b[39m\u001b[33m\"\u001b[39m,\n\u001b[32m      8\u001b[39m         messages = messages,\n\u001b[32m      9\u001b[39m         max_tokens = \u001b[32m200\u001b[39m,\n\u001b[32m     10\u001b[39m         temperature = \u001b[32m1\u001b[39m\n\u001b[32m     11\u001b[39m     )\n",
      "\u001b[31mNameError\u001b[39m: name 'messages' is not defined"
     ]
    }
   ],
   "source": [
    "messages.append({\"role\": \"user\", \"content\": prompt})  # adiciona el prompt a la instrucción inicial y al histórico\n",
    "\n",
    "for loop in range(0, LOOPS):\n",
    "\n",
    "    # Llamada a la API\n",
    "    response = openai.chat.completions.create(\n",
    "        model = \"gpt-4o\",\n",
    "        messages = messages,\n",
    "        max_tokens = 200,\n",
    "        temperature = 1\n",
    "    )\n",
    "\n",
    "    # Extrae la respuesta del JSON de respuesta\n",
    "    answer = response.choices[0].message.content\n",
    "    print(f\"### LOOP\", loop, ':\\n')\n",
    "    print(answer)\n",
    "\n",
    "    start_index = answer.find(\"Resultado: \") + len(\"Resultado: \")\n",
    "    if start_index != -1:\n",
    "        number_answer = answer[start_index:].split()[0].rstrip('.')\n",
    "        #print(\"Respuesta:\", number_answer, '\\n------')\n",
    "        answers.append(int(number_answer))  # añade la respuesta a la lista de respuestas\n",
    "\n",
    "print(answers, '\\n')"
   ]
  }
 ],
 "metadata": {
  "kernelspec": {
   "display_name": "Python 3",
   "language": "python",
   "name": "python3"
  },
  "language_info": {
   "codemirror_mode": {
    "name": "ipython",
    "version": 3
   },
   "file_extension": ".py",
   "mimetype": "text/x-python",
   "name": "python",
   "nbconvert_exporter": "python",
   "pygments_lexer": "ipython3",
   "version": "3.13.5"
  }
 },
 "nbformat": 4,
 "nbformat_minor": 5
}
